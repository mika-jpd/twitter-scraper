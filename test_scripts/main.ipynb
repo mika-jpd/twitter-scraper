{
 "cells": [
  {
   "cell_type": "code",
   "execution_count": 4,
   "id": "initial_id",
   "metadata": {
    "collapsed": true,
    "ExecuteTime": {
     "end_time": "2024-11-28T17:57:02.022907Z",
     "start_time": "2024-11-28T17:57:01.952999Z"
    }
   },
   "outputs": [],
   "source": [
    "from twscrape.api import API"
   ]
  },
  {
   "cell_type": "code",
   "outputs": [],
   "source": [
    "api = API(use_case=0)\n",
    "\n",
    "tweets = api.search(\n",
    "    q=\"(from:deputesPCF) until:2024-11-20 since:2024-11-15\"\n",
    ")"
   ],
   "metadata": {
    "collapsed": false,
    "ExecuteTime": {
     "end_time": "2024-11-28T18:00:36.655050Z",
     "start_time": "2024-11-28T18:00:36.650089Z"
    }
   },
   "id": "77dfedf575b122cd",
   "execution_count": 6
  },
  {
   "cell_type": "code",
   "outputs": [],
   "source": [],
   "metadata": {
    "collapsed": false
   },
   "id": "4d652c0f1c7143d4"
  }
 ],
 "metadata": {
  "kernelspec": {
   "display_name": "Python 3",
   "language": "python",
   "name": "python3"
  },
  "language_info": {
   "codemirror_mode": {
    "name": "ipython",
    "version": 2
   },
   "file_extension": ".py",
   "mimetype": "text/x-python",
   "name": "python",
   "nbconvert_exporter": "python",
   "pygments_lexer": "ipython2",
   "version": "2.7.6"
  }
 },
 "nbformat": 4,
 "nbformat_minor": 5
}
